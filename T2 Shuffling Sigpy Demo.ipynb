{
 "cells": [
  {
   "cell_type": "markdown",
   "metadata": {},
   "source": [
    "# T2 Shuffling implemented in SigPy\n",
    "\n",
    "This is a demo of T2 Shuffling, implemented using SigPy.\n",
    "Currently, it uses the \"slow\" version of the normal equations, because SigPy does not support directly\n",
    "supplying the normal operator to the interative algorithms.\n",
    "\n",
    "Run this with the same data found in https://github.com/jtamir/t2shuffling-support"
   ]
  },
  {
   "cell_type": "code",
   "execution_count": 1,
   "metadata": {},
   "outputs": [],
   "source": [
    "%load_ext autoreload\n",
    "%autoreload 2\n",
    "\n",
    "import numpy as np\n",
    "\n",
    "\n",
    "import sigpy as sp\n",
    "import sigpy.plot as pl\n",
    "\n",
    "import scipy.io\n",
    "\n",
    "\n",
    "import time\n",
    "import sys\n",
    "import os.path\n",
    "import joblib\n",
    "\n",
    "\n",
    "import cfl\n",
    "\n",
    "\n",
    "%matplotlib notebook\n",
    "import matplotlib.pyplot as plt\n"
   ]
  },
  {
   "cell_type": "code",
   "execution_count": 2,
   "metadata": {},
   "outputs": [],
   "source": [
    "def nrmse(x, y):\n",
    "    return np.linalg.norm(x - y) / np.linalg.norm(x)"
   ]
  },
  {
   "cell_type": "code",
   "execution_count": 3,
   "metadata": {},
   "outputs": [
    {
     "name": "stdout",
     "output_type": "stream",
     "text": [
      "teksp: (260, 240, 7, 80)\n",
      "cfksp: (260, 240, 7, 4)\n",
      "sens: (260, 240, 7, 1)\n",
      "pat: (260, 240, 1, 80)\n",
      "bas: (80, 80)\n",
      "cfimg: (260, 240, 1, 4)\n"
     ]
    }
   ],
   "source": [
    "data_dir = 'data'\n",
    "\n",
    "teksp = cfl.readcfl(os.path.join(data_dir, 'teksp')).squeeze()\n",
    "cfksp = cfl.readcfl(os.path.join(data_dir, 'cfksp')).squeeze()\n",
    "sens = np.expand_dims(cfl.readcfl(os.path.join(data_dir, 'sens')).squeeze(), axis=3)\n",
    "pat = np.expand_dims(cfl.readcfl(os.path.join(data_dir, 'mask')).squeeze(), axis=2)\n",
    "bas = cfl.readcfl(os.path.join(data_dir, 'bas')).squeeze()\n",
    "cfimg = np.expand_dims(cfl.readcfl(os.path.join(data_dir, 'cfimg_recon')).squeeze(), axis=2)\n",
    "\n",
    "print ('teksp:', teksp.shape)\n",
    "print ('cfksp:', cfksp.shape)\n",
    "print ('sens:', sens.shape)\n",
    "print ('pat:', pat.shape)\n",
    "print ('bas:', bas.shape)\n",
    "print ('cfimg:', cfimg.shape)\n",
    "\n",
    "ny, nz, nc, T = teksp.shape\n",
    "K_full = cfimg.shape[3]\n",
    "\n",
    "Phi = bas[:, :K_full].real"
   ]
  },
  {
   "cell_type": "markdown",
   "metadata": {},
   "source": [
    "## Scan and recon params"
   ]
  },
  {
   "cell_type": "code",
   "execution_count": 4,
   "metadata": {},
   "outputs": [
    {
     "name": "stdout",
     "output_type": "stream",
     "text": [
      "Computing space time kernel\n",
      "Done: 0.7876341342926025\n",
      "\n"
     ]
    }
   ],
   "source": [
    "def stkern_mat(bas, mask):\n",
    "    T, K = bas.shape\n",
    "    ny, nz, _, nt = pat.shape\n",
    "    assert(nt == T)\n",
    "    z = pat.reshape((ny, nz, T, 1, 1)) * bas.reshape((1, 1, nt, 1, K))\n",
    "    z2 = np.expand_dims(np.sum(z * bas.reshape((1, 1, T, K, 1)), axis=2), axis=2)\n",
    "    return z2\n",
    "\n",
    "\n",
    "print('Computing space time kernel')\n",
    "tic = time.time()\n",
    "stk = stkern_mat(Phi, pat)\n",
    "toc = time.time()\n",
    "print('Done: {}'.format(toc - tic))\n",
    "print()"
   ]
  },
  {
   "cell_type": "code",
   "execution_count": 5,
   "metadata": {},
   "outputs": [
    {
     "name": "stdout",
     "output_type": "stream",
     "text": [
      "[260, 240, 1, 4, 1] [260, 240, 7, 80, 1]\n"
     ]
    }
   ],
   "source": [
    "# X, Y, C, T, K\n",
    "F_op = sp.linop.FFT([*cfksp.shape, 1], axes = (0, 1))\n",
    "S_op = sp.linop.Multiply([*cfimg.shape, 1], sens[...,None])\n",
    "Psi_op = sp.linop.MatMul([*cfksp.shape, 1], stk)\n",
    "Phi_op = sp.linop.MatMul([*cfksp.shape, 1], Phi[None, None, None, ...])\n",
    "P_op = sp.linop.Multiply([*teksp.shape, 1], pat[...,None])\n",
    "T2sh_nrml_op = S_op.H * F_op.H * Psi_op * F_op * S_op\n",
    "T2sh_op = P_op * Phi_op * F_op * S_op\n",
    "print(T2sh_op.ishape, T2sh_op.oshape)"
   ]
  },
  {
   "cell_type": "code",
   "execution_count": 6,
   "metadata": {},
   "outputs": [
    {
     "name": "stdout",
     "output_type": "stream",
     "text": [
      "Fast normal eq\n",
      "Done: 0.42125701904296875\n",
      "\n",
      "Slow normal eq\n",
      "Done: 1.3517980575561523\n",
      "\n",
      "Error: 9.636945463853408e-08\n"
     ]
    }
   ],
   "source": [
    "print('Fast normal eq')\n",
    "tic = time.time()\n",
    "z1 = T2sh_nrml_op * cfimg[..., None]\n",
    "toc = time.time()\n",
    "print('Done: {}'.format(toc - tic))\n",
    "print()\n",
    "\n",
    "print('Slow normal eq')\n",
    "tic = time.time()\n",
    "z2 = T2sh_op.H * T2sh_op * cfimg[..., None]\n",
    "toc = time.time()\n",
    "print('Done: {}'.format(toc - tic))\n",
    "print()\n",
    "\n",
    "print('Error: {}'.format(nrmse(z1, z2)))"
   ]
  },
  {
   "cell_type": "code",
   "execution_count": 24,
   "metadata": {},
   "outputs": [],
   "source": [
    "W = 10\n",
    "S = 10\n",
    "lamda = .04\n",
    "\n",
    "def llr_soft_thresh(lam, block_op, W, S, input):\n",
    "\n",
    "    input_reshape = input.reshape((input.shape[0], input.shape[1], -1))\n",
    "    data = block_op * input_reshape\n",
    "    data_reshape = data.reshape((data.shape[0], data.shape[1], -1, W*W))\n",
    "    u, s, vh = np.linalg.svd(data_reshape, full_matrices=False)\n",
    "    s_st = sp.soft_thresh(lam, s)\n",
    "    data_reshape_st = u * s_st[..., None, :] @ vh\n",
    "    output = block_op.H * data_reshape_st.reshape(data.shape)\n",
    "    return output.reshape((input.shape))\n",
    "\n",
    "class LLRProx(sp.prox.Prox):\n",
    "    def __init__(self, shape, lamda, W, S, rand_shift=True):\n",
    "        self.W = W\n",
    "        self.S = S\n",
    "        self.lamda = lamda\n",
    "        self.rand_shift = rand_shift\n",
    "        self.block_op = sp.linop.ArrayToBlocks([shape[0], shape[1], shape[3]], [W, W, 1], [S, S, 1])\n",
    "        super().__init__(shape)\n",
    "        \n",
    "    def _prox(self, alpha, input):\n",
    "        if self.rand_shift:\n",
    "            shift_x, shift_y = np.random.randint(0, self.W, size=2)\n",
    "            shift_shape = [shift_x, shift_y]\n",
    "            C_op = sp.linop.Circshift(self.shape, shift_shape, axes=[0, 1])\n",
    "            input = C_op * input\n",
    "\n",
    "        output = llr_soft_thresh(self.lamda * alpha, self.block_op, self.W, self.S, input)\n",
    "\n",
    "        if self.rand_shift:\n",
    "            output = C_op.H * output\n",
    "            \n",
    "        return output\n",
    "    \n",
    "proxg = LLRProx(T2sh_op.ishape, lamda, W, S)\n",
    "# proxg = LLRProx(T2sh_op.ishape, lamda, W, S, rand_shift=False)"
   ]
  },
  {
   "cell_type": "code",
   "execution_count": 25,
   "metadata": {},
   "outputs": [],
   "source": [
    "teksp_center = sp.resize(teksp, [32, 32, *teksp.shape[2:]])\n",
    "cfimg_center = np.linalg.norm(np.linalg.norm(sp.ifft(teksp_center, axes=[0, 1]), axis=-1), axis=-1)\n",
    "scale = np.percentile(abs(cfimg_center.ravel()), 95)\n"
   ]
  },
  {
   "cell_type": "code",
   "execution_count": null,
   "metadata": {
    "scrolled": false
   },
   "outputs": [
    {
     "data": {
      "application/vnd.jupyter.widget-view+json": {
       "model_id": "4c6afd904bad4fce98ba0f93d7c09011",
       "version_major": 2,
       "version_minor": 0
      },
      "text/plain": [
       "HBox(children=(IntProgress(value=0, description='LinearLeastSquares', max=250, style=ProgressStyle(description…"
      ]
     },
     "metadata": {},
     "output_type": "display_data"
    }
   ],
   "source": [
    "max_iter = 250\n",
    "alpha = .95\n",
    "\n",
    "teksp_scale = teksp / scale\n",
    "T2sh_app = sp.app.LinearLeastSquares(T2sh_op,\n",
    "                                     teksp_scale[...,None],\n",
    "                                     proxg=proxg,\n",
    "                                     alg_name='GradientMethod',\n",
    "                                     alpha=alpha,\n",
    "                                     max_iter=max_iter,\n",
    "                                     accelerate=True)\n",
    "\n",
    "cfimg_recon = T2sh_app.run() * scale\n"
   ]
  },
  {
   "cell_type": "code",
   "execution_count": null,
   "metadata": {},
   "outputs": [],
   "source": [
    "pl.ImagePlot(cfimg_recon.transpose((3, 2, 4, 0, 1)))\n"
   ]
  },
  {
   "cell_type": "code",
   "execution_count": null,
   "metadata": {},
   "outputs": [],
   "source": [
    "teimg_recon = sp.linop.MatMul(x.shape, Phi[None, None, None, ...])(x)"
   ]
  },
  {
   "cell_type": "code",
   "execution_count": null,
   "metadata": {},
   "outputs": [],
   "source": [
    "pl.ImagePlot(teimg_recon.transpose((3, 2, 4, 0, 1)))"
   ]
  },
  {
   "cell_type": "code",
   "execution_count": null,
   "metadata": {},
   "outputs": [],
   "source": []
  }
 ],
 "metadata": {
  "anaconda-cloud": {},
  "kernelspec": {
   "display_name": "Python 3",
   "language": "python",
   "name": "python3"
  },
  "language_info": {
   "codemirror_mode": {
    "name": "ipython",
    "version": 3
   },
   "file_extension": ".py",
   "mimetype": "text/x-python",
   "name": "python",
   "nbconvert_exporter": "python",
   "pygments_lexer": "ipython3",
   "version": "3.7.3"
  }
 },
 "nbformat": 4,
 "nbformat_minor": 1
}
